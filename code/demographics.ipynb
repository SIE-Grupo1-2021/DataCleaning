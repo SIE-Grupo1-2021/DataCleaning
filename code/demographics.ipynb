{
 "cells": [
  {
   "cell_type": "code",
   "execution_count": 1,
   "metadata": {},
   "outputs": [],
   "source": [
    "import pandas as pd\n",
    "import zipfile\n",
    "from io import BytesIO\n",
    "import requests"
   ]
  },
  {
   "cell_type": "code",
   "execution_count": 2,
   "metadata": {},
   "outputs": [],
   "source": [
    "varlist = set(['Población de 0 - 14 años', 'Población de 15 - 64 años', 'Población de 65 años y más', 'Población total', \n",
    "               'Provincia / Cantón', 'Total de Escuelas', 'Total de Kinder', 'Total de colegios', 'Año'])"
   ]
  },
  {
   "cell_type": "code",
   "execution_count": 3,
   "metadata": {},
   "outputs": [],
   "source": [
    "demographics_df_list = []\n",
    "column_list = set()\n",
    "for yr in [str(i).zfill(2) for i in range(6, 21)]: \n",
    "    for province in ['san_jose', 'alajuela', 'cartago', 'heredia', 'guanacaste', 'puntarenas', 'limon']:\n",
    "        # Downloading the file by sending the request to the URL\n",
    "        req = requests.get(f\"https://www.ccss.sa.cr/arc/estadisticas/actuarial/67/{province}_{yr}.zip\")\n",
    "\n",
    "        with zipfile.ZipFile(BytesIO(req.content)) as z:\n",
    "            # open the csv file in the dataset\n",
    "            with z.open(z.namelist()[0]) as f: \n",
    "                # read the dataset\n",
    "                df = pd.read_excel(f.read(), skiprows=1)\n",
    "                df[\"Año\"] = int(\"20\" + yr)\n",
    "                df.columns = df.columns.str.replace(r\"/[0-9]\", \"\",  regex=True)\n",
    "                df.columns = df.columns.str.replace(r\"\\s\\s+\", \" \",  regex=True)\n",
    "                df.columns = df.columns.str.strip()\n",
    "                var_diff = set(df.columns) - varlist\n",
    "                df.drop(columns=var_diff, inplace=True)\n",
    "                demographics_df_list.append(df)"
   ]
  },
  {
   "cell_type": "code",
   "execution_count": 4,
   "metadata": {},
   "outputs": [],
   "source": [
    "demographics_df = pd.concat(demographics_df_list, ignore_index=True)"
   ]
  },
  {
   "cell_type": "code",
   "execution_count": 5,
   "metadata": {
    "collapsed": false,
    "pycharm": {
     "name": "#%%\n"
    }
   },
   "outputs": [],
   "source": [
    "select_municipalities = demographics_df[\"Provincia / Cantón\"].str.contains(r\"^\\d{3}:\", regex=True, na=False)"
   ]
  },
  {
   "cell_type": "code",
   "execution_count": 6,
   "metadata": {},
   "outputs": [],
   "source": [
    "demographics_df = demographics_df[select_municipalities].copy()"
   ]
  },
  {
   "cell_type": "code",
   "execution_count": 7,
   "metadata": {},
   "outputs": [],
   "source": [
    "demographics_df.rename(columns={'Provincia / Cantón': 'municipality', \n",
    "                                'Población de 0 - 14 años': \"pop_014\", \n",
    "                                'Población de 15 - 64 años': \"pop_1564\", \n",
    "                                'Población de 65 años y más': \"pop_65plus\", \n",
    "                                'Población total': \"pop\", \n",
    "                                'Total de Kinder': \"n_preschools\", \n",
    "                                'Total de Escuelas': \"n_schools\", \n",
    "                                'Total de colegios': \"n_highschools\", \n",
    "                                'Año': \"year\"}, \n",
    "                        inplace=True)"
   ]
  },
  {
   "cell_type": "code",
   "execution_count": 8,
   "metadata": {},
   "outputs": [],
   "source": [
    "demographics_df[\"pop_share014\"] = demographics_df[\"pop_014\"] / demographics_df[\"pop\"]\n",
    "demographics_df[\"pop_share65plus\"] = demographics_df[\"pop_65plus\"] / demographics_df[\"pop\"]\n",
    "demographics_df[\"k_12centers\"] = demographics_df[\"n_preschools\"] + demographics_df[\"n_schools\"] + demographics_df[\"n_highschools\"]"
   ]
  },
  {
   "cell_type": "code",
   "execution_count": 9,
   "metadata": {},
   "outputs": [],
   "source": [
    "demographics_df = demographics_df[[\"municipality\", \"year\", \"pop_share014\", \"pop_share65plus\", \"k_12centers\", \"pop\"]].copy()"
   ]
  },
  {
   "cell_type": "code",
   "execution_count": 10,
   "metadata": {},
   "outputs": [],
   "source": [
    "demographics_df.to_stata(\"population.dta\", write_index=False)"
   ]
  },
  {
   "cell_type": "code",
   "execution_count": null,
   "metadata": {},
   "outputs": [],
   "source": []
  }
 ],
 "metadata": {
  "interpreter": {
   "hash": "6f8059af9600cfe2541dd16b7a37a59d52ce3b477238729014a4c162f9d60179"
  },
  "kernelspec": {
   "display_name": "Python 3.9.10 ('base')",
   "language": "python",
   "name": "python3"
  },
  "language_info": {
   "codemirror_mode": {
    "name": "ipython",
    "version": 3
   },
   "file_extension": ".py",
   "mimetype": "text/x-python",
   "name": "python",
   "nbconvert_exporter": "python",
   "pygments_lexer": "ipython3",
   "version": "3.9.10"
  },
  "orig_nbformat": 4
 },
 "nbformat": 4,
 "nbformat_minor": 2
}
